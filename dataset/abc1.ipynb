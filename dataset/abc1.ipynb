{
 "cells": [
  {
   "cell_type": "code",
   "execution_count": 1,
   "metadata": {},
   "outputs": [
    {
     "name": "stdout",
     "output_type": "stream",
     "text": [
      "['District_Name', 'Market_Name', 'Commodity', 'Variety', 'Grade', 'Min_Price', 'Max_Price', 'Modal_Price', 'Price_Date']\n"
     ]
    }
   ],
   "source": [
    "import pandas as pd\n",
    "\n",
    "def get_csv_column_names(file_path):\n",
    "    df = pd.read_csv(file_path)\n",
    "    return df.columns.tolist()\n",
    "\n",
    "# Usage\n",
    "file_path = 'Almond1.csv'\n",
    "columns = get_csv_column_names(file_path)\n",
    "print(columns)"
   ]
  },
  {
   "cell_type": "code",
   "execution_count": 2,
   "metadata": {},
   "outputs": [
    {
     "name": "stdout",
     "output_type": "stream",
     "text": [
      "['Amarawati' 'Aurangabad' 'Chandrapur' 'Mumbai' 'Jalgaon' 'Kolhapur'\n",
      " 'Nagpur' 'Nashik' 'Pune' 'Sangli' 'Sholapur' 'Ahmednagar' 'Satara'\n",
      " 'Nandurbar' 'Osmanabad' 'Raigad' 'Ratnagiri' 'Buldhana' 'Jalana' 'Latur'\n",
      " 'Wardha' 'Nanded' 'Dhule']\n"
     ]
    }
   ],
   "source": [
    "import pandas as pd\n",
    "# Assuming your CSV file is named 'data.csv'\n",
    "df = pd.read_csv('Almond1.csv')\n",
    "# Get the unique values from the 'District_Name' column\n",
    "unique_district_names = df['District_Name'].unique()\n",
    "# Print the unique district names\n",
    "print(unique_district_names)"
   ]
  },
  {
   "cell_type": "code",
   "execution_count": 3,
   "metadata": {},
   "outputs": [
    {
     "name": "stdout",
     "output_type": "stream",
     "text": [
      "['Apple' 'Carrot' 'Cotton' 'Groundnut' 'Mango' 'Almond(Badam)' 'Banana'\n",
      " 'Methi(Leaves)' 'Brinjal' 'Bajra(Pearl Millet/Cumbu)' 'Seetapal'\n",
      " 'Sabu Dan' 'Sweet Potato']\n"
     ]
    }
   ],
   "source": [
    "import pandas as pd\n",
    "# Assuming your CSV file is named 'data.csv'\n",
    "df = pd.read_csv('Almond1.csv')\n",
    "# Get the unique values from the 'District_Name' column\n",
    "unique_district_names = df['Commodity'].unique()\n",
    "# Print the unique district names\n",
    "print(unique_district_names)"
   ]
  },
  {
   "cell_type": "markdown",
   "metadata": {},
   "source": [
    "### MIN PRICE (Training)"
   ]
  },
  {
   "cell_type": "code",
   "execution_count": 4,
   "metadata": {},
   "outputs": [
    {
     "name": "stderr",
     "output_type": "stream",
     "text": [
      "C:\\Users\\Dell\\AppData\\Local\\Temp\\ipykernel_38932\\1391310820.py:18: UserWarning: Could not infer format, so each element will be parsed individually, falling back to `dateutil`. To ensure parsing is consistent and as-expected, please specify a format.\n",
      "  X['Month'] = pd.to_datetime(X['Price_Date']).dt.month\n",
      "C:\\Users\\Dell\\AppData\\Local\\Temp\\ipykernel_38932\\1391310820.py:18: SettingWithCopyWarning: \n",
      "A value is trying to be set on a copy of a slice from a DataFrame.\n",
      "Try using .loc[row_indexer,col_indexer] = value instead\n",
      "\n",
      "See the caveats in the documentation: https://pandas.pydata.org/pandas-docs/stable/user_guide/indexing.html#returning-a-view-versus-a-copy\n",
      "  X['Month'] = pd.to_datetime(X['Price_Date']).dt.month\n",
      "C:\\Users\\Dell\\AppData\\Local\\Temp\\ipykernel_38932\\1391310820.py:19: UserWarning: Could not infer format, so each element will be parsed individually, falling back to `dateutil`. To ensure parsing is consistent and as-expected, please specify a format.\n",
      "  X['Year'] = pd.to_datetime(X['Price_Date']).dt.year\n",
      "C:\\Users\\Dell\\AppData\\Local\\Temp\\ipykernel_38932\\1391310820.py:19: SettingWithCopyWarning: \n",
      "A value is trying to be set on a copy of a slice from a DataFrame.\n",
      "Try using .loc[row_indexer,col_indexer] = value instead\n",
      "\n",
      "See the caveats in the documentation: https://pandas.pydata.org/pandas-docs/stable/user_guide/indexing.html#returning-a-view-versus-a-copy\n",
      "  X['Year'] = pd.to_datetime(X['Price_Date']).dt.year\n",
      "C:\\Users\\Dell\\AppData\\Local\\Temp\\ipykernel_38932\\1391310820.py:20: SettingWithCopyWarning: \n",
      "A value is trying to be set on a copy of a slice from a DataFrame\n",
      "\n",
      "See the caveats in the documentation: https://pandas.pydata.org/pandas-docs/stable/user_guide/indexing.html#returning-a-view-versus-a-copy\n",
      "  X.drop('Price_Date', axis=1, inplace=True)\n"
     ]
    }
   ],
   "source": [
    "import pandas as pd\n",
    "from sklearn.linear_model import LinearRegression\n",
    "from sklearn.preprocessing import OneHotEncoder\n",
    "from sklearn.impute import SimpleImputer\n",
    "from sklearn.compose import ColumnTransformer\n",
    "from sklearn.pipeline import Pipeline\n",
    "from sklearn.model_selection import train_test_split\n",
    "import pickle\n",
    "\n",
    "# Load the CSV file into a pandas DataFrame\n",
    "df = pd.read_csv('Almond1.csv')\n",
    "\n",
    "# Extract the features (first 6 labels) and the target variable 'Modal_Price'\n",
    "X = df[['District_Name', 'Market_Name', 'Commodity', 'Variety', 'Grade', 'Price_Date']]\n",
    "y = df['Min_Price']\n",
    "\n",
    "# Feature engineering: Extract month and year from Price_Date\n",
    "X['Month'] = pd.to_datetime(X['Price_Date']).dt.month\n",
    "X['Year'] = pd.to_datetime(X['Price_Date']).dt.year\n",
    "X.drop('Price_Date', axis=1, inplace=True)\n",
    "\n",
    "# List of categorical columns and numerical columns\n",
    "categorical_features = ['District_Name', 'Market_Name', 'Commodity', 'Variety', 'Grade', 'Month', 'Year']\n",
    "numerical_features = ['Month', 'Year']\n",
    "\n",
    "# Create pipelines for preprocessing\n",
    "categorical_transformer = Pipeline(steps=[\n",
    "    ('imputer', SimpleImputer(strategy='most_frequent')),\n",
    "    ('onehot', OneHotEncoder(handle_unknown='ignore'))\n",
    "])\n",
    "\n",
    "# Use ColumnTransformer to apply preprocessing to selected categorical features\n",
    "preprocessor = ColumnTransformer(\n",
    "    transformers=[\n",
    "        ('cat', categorical_transformer, categorical_features),\n",
    "        ('num', 'passthrough', numerical_features)\n",
    "    ],\n",
    "    remainder='drop'\n",
    ")\n",
    "\n",
    "# Split the data into training and testing sets\n",
    "X_train, X_test, y_train, y_test = train_test_split(X, y, test_size=0.2, random_state=42)\n",
    "\n",
    "# Create a pipeline with preprocessing and linear regression model\n",
    "model = Pipeline(steps=[\n",
    "    ('preprocessor', preprocessor),\n",
    "    ('regressor', LinearRegression())\n",
    "])\n",
    "\n",
    "# Train the model\n",
    "model.fit(X_train, y_train)\n",
    "\n",
    "# Save the trained model to a file\n",
    "with open('minprice.pkl', 'wb') as file:\n",
    "    pickle.dump(model, file)\n"
   ]
  },
  {
   "cell_type": "markdown",
   "metadata": {},
   "source": [
    "### MIN PRICE (Testing)"
   ]
  },
  {
   "cell_type": "code",
   "execution_count": 5,
   "metadata": {},
   "outputs": [
    {
     "name": "stdout",
     "output_type": "stream",
     "text": [
      "Predicted Min Price: 8135.153414625267\n"
     ]
    }
   ],
   "source": [
    "import pandas as pd\n",
    "import pickle\n",
    "\n",
    "# Load the input data for prediction\n",
    "input_row = {\n",
    "    'District_Name': 'Chikmagalur',\n",
    "    'Market_Name': 'Chikkamagalore',\n",
    "    'Commodity': 'Antawala',\n",
    "    'Variety': 'Antawala',\n",
    "    'Grade': 'FAQ',\n",
    "    'Price_Date': '9/6/2025'\n",
    "}\n",
    "\n",
    "# Load the saved model\n",
    "with open('minprice.pkl', 'rb') as file:\n",
    "    model = pickle.load(file)\n",
    "\n",
    "# Create a DataFrame with the input row\n",
    "input_df = pd.DataFrame([input_row])\n",
    "\n",
    "# Feature engineering: Extract month and year from Price_Date\n",
    "input_df['Month'] = pd.to_datetime(input_df['Price_Date']).dt.month\n",
    "input_df['Year'] = pd.to_datetime(input_df['Price_Date']).dt.year\n",
    "input_df.drop('Price_Date', axis=1, inplace=True)\n",
    "\n",
    "# Make prediction using the loaded model\n",
    "prediction = model.predict(input_df)\n",
    "print(\"Predicted Min Price:\", prediction[0])\n"
   ]
  },
  {
   "cell_type": "markdown",
   "metadata": {},
   "source": [
    "### MAX PRICE (Training)"
   ]
  },
  {
   "cell_type": "code",
   "execution_count": 6,
   "metadata": {},
   "outputs": [
    {
     "name": "stderr",
     "output_type": "stream",
     "text": [
      "C:\\Users\\Dell\\AppData\\Local\\Temp\\ipykernel_38932\\4192404969.py:18: UserWarning: Could not infer format, so each element will be parsed individually, falling back to `dateutil`. To ensure parsing is consistent and as-expected, please specify a format.\n",
      "  X['Month'] = pd.to_datetime(X['Price_Date']).dt.month\n",
      "C:\\Users\\Dell\\AppData\\Local\\Temp\\ipykernel_38932\\4192404969.py:18: SettingWithCopyWarning: \n",
      "A value is trying to be set on a copy of a slice from a DataFrame.\n",
      "Try using .loc[row_indexer,col_indexer] = value instead\n",
      "\n",
      "See the caveats in the documentation: https://pandas.pydata.org/pandas-docs/stable/user_guide/indexing.html#returning-a-view-versus-a-copy\n",
      "  X['Month'] = pd.to_datetime(X['Price_Date']).dt.month\n",
      "C:\\Users\\Dell\\AppData\\Local\\Temp\\ipykernel_38932\\4192404969.py:19: UserWarning: Could not infer format, so each element will be parsed individually, falling back to `dateutil`. To ensure parsing is consistent and as-expected, please specify a format.\n",
      "  X['Year'] = pd.to_datetime(X['Price_Date']).dt.year\n",
      "C:\\Users\\Dell\\AppData\\Local\\Temp\\ipykernel_38932\\4192404969.py:19: SettingWithCopyWarning: \n",
      "A value is trying to be set on a copy of a slice from a DataFrame.\n",
      "Try using .loc[row_indexer,col_indexer] = value instead\n",
      "\n",
      "See the caveats in the documentation: https://pandas.pydata.org/pandas-docs/stable/user_guide/indexing.html#returning-a-view-versus-a-copy\n",
      "  X['Year'] = pd.to_datetime(X['Price_Date']).dt.year\n",
      "C:\\Users\\Dell\\AppData\\Local\\Temp\\ipykernel_38932\\4192404969.py:20: SettingWithCopyWarning: \n",
      "A value is trying to be set on a copy of a slice from a DataFrame\n",
      "\n",
      "See the caveats in the documentation: https://pandas.pydata.org/pandas-docs/stable/user_guide/indexing.html#returning-a-view-versus-a-copy\n",
      "  X.drop('Price_Date', axis=1, inplace=True)\n"
     ]
    }
   ],
   "source": [
    "import pandas as pd\n",
    "from sklearn.linear_model import LinearRegression\n",
    "from sklearn.preprocessing import OneHotEncoder\n",
    "from sklearn.impute import SimpleImputer\n",
    "from sklearn.compose import ColumnTransformer\n",
    "from sklearn.pipeline import Pipeline\n",
    "from sklearn.model_selection import train_test_split\n",
    "import pickle\n",
    "\n",
    "# Load the CSV file into a pandas DataFrame\n",
    "df = pd.read_csv('Almond1.csv')\n",
    "\n",
    "# Extract the features (first 6 labels) and the target variable 'Modal_Price'\n",
    "X = df[['District_Name', 'Market_Name', 'Commodity', 'Variety', 'Grade', 'Price_Date']]\n",
    "y = df['Max_Price']\n",
    "\n",
    "# Feature engineering: Extract month and year from Price_Date\n",
    "X['Month'] = pd.to_datetime(X['Price_Date']).dt.month\n",
    "X['Year'] = pd.to_datetime(X['Price_Date']).dt.year\n",
    "X.drop('Price_Date', axis=1, inplace=True)\n",
    "\n",
    "# List of categorical columns and numerical columns\n",
    "categorical_features = ['District_Name', 'Market_Name', 'Commodity', 'Variety', 'Grade', 'Month', 'Year']\n",
    "numerical_features = ['Month', 'Year']\n",
    "\n",
    "# Create pipelines for preprocessing\n",
    "categorical_transformer = Pipeline(steps=[\n",
    "    ('imputer', SimpleImputer(strategy='most_frequent')),\n",
    "    ('onehot', OneHotEncoder(handle_unknown='ignore'))\n",
    "])\n",
    "\n",
    "# Use ColumnTransformer to apply preprocessing to selected categorical features\n",
    "preprocessor = ColumnTransformer(\n",
    "    transformers=[\n",
    "        ('cat', categorical_transformer, categorical_features),\n",
    "        ('num', 'passthrough', numerical_features)\n",
    "    ],\n",
    "    remainder='drop'\n",
    ")\n",
    "\n",
    "# Split the data into training and testing sets\n",
    "X_train, X_test, y_train, y_test = train_test_split(X, y, test_size=0.2, random_state=42)\n",
    "\n",
    "# Create a pipeline with preprocessing and linear regression model\n",
    "model = Pipeline(steps=[\n",
    "    ('preprocessor', preprocessor),\n",
    "    ('regressor', LinearRegression())\n",
    "])\n",
    "\n",
    "# Train the model\n",
    "model.fit(X_train, y_train)\n",
    "\n",
    "# Save the trained model to a file\n",
    "with open('maxprice.pkl', 'wb') as file:\n",
    "    pickle.dump(model, file)\n"
   ]
  },
  {
   "cell_type": "markdown",
   "metadata": {},
   "source": [
    "### MAX PRICE (Testing)"
   ]
  },
  {
   "cell_type": "code",
   "execution_count": 7,
   "metadata": {},
   "outputs": [
    {
     "name": "stdout",
     "output_type": "stream",
     "text": [
      "Predicted Max Price: 11324.112440075027\n"
     ]
    }
   ],
   "source": [
    "import pandas as pd\n",
    "import pickle\n",
    "\n",
    "# Load the input data for prediction\n",
    "input_row = {\n",
    "   'District_Name': 'Chikmagalur',\n",
    "    'Market_Name': 'Chikkamagalore',\n",
    "    'Commodity': 'Antawala',\n",
    "    'Variety': 'Antawala',\n",
    "    'Grade': 'FAQ',\n",
    "    'Price_Date': '9/6/2025'\n",
    "}\n",
    "\n",
    "# Load the saved model\n",
    "with open('maxprice.pkl', 'rb') as file:\n",
    "    model = pickle.load(file)\n",
    "\n",
    "# Create a DataFrame with the input row\n",
    "input_df = pd.DataFrame([input_row])\n",
    "\n",
    "# Feature engineering: Extract month and year from Price_Date\n",
    "input_df['Month'] = pd.to_datetime(input_df['Price_Date']).dt.month\n",
    "input_df['Year'] = pd.to_datetime(input_df['Price_Date']).dt.year\n",
    "input_df.drop('Price_Date', axis=1, inplace=True)\n",
    "\n",
    "# Make prediction using the loaded model\n",
    "prediction = model.predict(input_df)\n",
    "print(\"Predicted Max Price:\", prediction[0])"
   ]
  },
  {
   "cell_type": "markdown",
   "metadata": {},
   "source": [
    "### MODAL PRICE (Training)"
   ]
  },
  {
   "cell_type": "code",
   "execution_count": 8,
   "metadata": {},
   "outputs": [
    {
     "name": "stderr",
     "output_type": "stream",
     "text": [
      "C:\\Users\\Dell\\AppData\\Local\\Temp\\ipykernel_38932\\1958752899.py:18: UserWarning: Could not infer format, so each element will be parsed individually, falling back to `dateutil`. To ensure parsing is consistent and as-expected, please specify a format.\n",
      "  X['Month'] = pd.to_datetime(X['Price_Date']).dt.month\n",
      "C:\\Users\\Dell\\AppData\\Local\\Temp\\ipykernel_38932\\1958752899.py:18: SettingWithCopyWarning: \n",
      "A value is trying to be set on a copy of a slice from a DataFrame.\n",
      "Try using .loc[row_indexer,col_indexer] = value instead\n",
      "\n",
      "See the caveats in the documentation: https://pandas.pydata.org/pandas-docs/stable/user_guide/indexing.html#returning-a-view-versus-a-copy\n",
      "  X['Month'] = pd.to_datetime(X['Price_Date']).dt.month\n",
      "C:\\Users\\Dell\\AppData\\Local\\Temp\\ipykernel_38932\\1958752899.py:19: UserWarning: Could not infer format, so each element will be parsed individually, falling back to `dateutil`. To ensure parsing is consistent and as-expected, please specify a format.\n",
      "  X['Year'] = pd.to_datetime(X['Price_Date']).dt.year\n",
      "C:\\Users\\Dell\\AppData\\Local\\Temp\\ipykernel_38932\\1958752899.py:19: SettingWithCopyWarning: \n",
      "A value is trying to be set on a copy of a slice from a DataFrame.\n",
      "Try using .loc[row_indexer,col_indexer] = value instead\n",
      "\n",
      "See the caveats in the documentation: https://pandas.pydata.org/pandas-docs/stable/user_guide/indexing.html#returning-a-view-versus-a-copy\n",
      "  X['Year'] = pd.to_datetime(X['Price_Date']).dt.year\n",
      "C:\\Users\\Dell\\AppData\\Local\\Temp\\ipykernel_38932\\1958752899.py:20: SettingWithCopyWarning: \n",
      "A value is trying to be set on a copy of a slice from a DataFrame\n",
      "\n",
      "See the caveats in the documentation: https://pandas.pydata.org/pandas-docs/stable/user_guide/indexing.html#returning-a-view-versus-a-copy\n",
      "  X.drop('Price_Date', axis=1, inplace=True)\n"
     ]
    }
   ],
   "source": [
    "import pandas as pd\n",
    "from sklearn.linear_model import LinearRegression\n",
    "from sklearn.preprocessing import OneHotEncoder\n",
    "from sklearn.impute import SimpleImputer\n",
    "from sklearn.compose import ColumnTransformer\n",
    "from sklearn.pipeline import Pipeline\n",
    "from sklearn.model_selection import train_test_split\n",
    "import pickle\n",
    "\n",
    "# Load the CSV file into a pandas DataFrame\n",
    "df = pd.read_csv('Almond1.csv')\n",
    "\n",
    "# Extract the features (first 6 labels) and the target variable 'Modal_Price'\n",
    "X = df[['District_Name', 'Market_Name', 'Commodity', 'Variety', 'Grade', 'Price_Date']]\n",
    "y = df['Modal_Price']\n",
    "\n",
    "# Feature engineering: Extract month and year from Price_Date\n",
    "X['Month'] = pd.to_datetime(X['Price_Date']).dt.month\n",
    "X['Year'] = pd.to_datetime(X['Price_Date']).dt.year\n",
    "X.drop('Price_Date', axis=1, inplace=True)\n",
    "\n",
    "# List of categorical columns and numerical columns\n",
    "categorical_features = ['District_Name', 'Market_Name', 'Commodity', 'Variety', 'Grade', 'Month', 'Year']\n",
    "numerical_features = ['Month', 'Year']\n",
    "\n",
    "# Create pipelines for preprocessing\n",
    "categorical_transformer = Pipeline(steps=[\n",
    "    ('imputer', SimpleImputer(strategy='most_frequent')),\n",
    "    ('onehot', OneHotEncoder(handle_unknown='ignore'))\n",
    "])\n",
    "\n",
    "# Use ColumnTransformer to apply preprocessing to selected categorical features\n",
    "preprocessor = ColumnTransformer(\n",
    "    transformers=[\n",
    "        ('cat', categorical_transformer, categorical_features),\n",
    "        ('num', 'passthrough', numerical_features)\n",
    "    ],\n",
    "    remainder='drop'\n",
    ")\n",
    "\n",
    "# Split the data into training and testing sets\n",
    "X_train, X_test, y_train, y_test = train_test_split(X, y, test_size=0.2, random_state=42)\n",
    "\n",
    "# Create a pipeline with preprocessing and linear regression model\n",
    "model = Pipeline(steps=[\n",
    "    ('preprocessor', preprocessor),\n",
    "    ('regressor', LinearRegression())\n",
    "])\n",
    "\n",
    "# Train the model\n",
    "model.fit(X_train, y_train)\n",
    "\n",
    "# Save the trained model to a file\n",
    "with open('modalprice.pkl', 'wb') as file:\n",
    "    pickle.dump(model, file)\n"
   ]
  },
  {
   "cell_type": "markdown",
   "metadata": {},
   "source": [
    "### MODAL PRICE (Testing)"
   ]
  },
  {
   "cell_type": "code",
   "execution_count": 9,
   "metadata": {},
   "outputs": [
    {
     "name": "stdout",
     "output_type": "stream",
     "text": [
      "Predicted Modal Price: 9659.693254036916\n"
     ]
    },
    {
     "name": "stderr",
     "output_type": "stream",
     "text": [
      "C:\\Users\\Dell\\AppData\\Local\\Temp\\ipykernel_38932\\1643321345.py:22: UserWarning: Parsing dates in %d/%m/%Y format when dayfirst=False (the default) was specified. Pass `dayfirst=True` or specify a format to silence this warning.\n",
      "  input_df['Month'] = pd.to_datetime(input_df['Price_Date']).dt.month\n",
      "C:\\Users\\Dell\\AppData\\Local\\Temp\\ipykernel_38932\\1643321345.py:23: UserWarning: Parsing dates in %d/%m/%Y format when dayfirst=False (the default) was specified. Pass `dayfirst=True` or specify a format to silence this warning.\n",
      "  input_df['Year'] = pd.to_datetime(input_df['Price_Date']).dt.year\n"
     ]
    }
   ],
   "source": [
    "import pandas as pd\n",
    "import pickle\n",
    "\n",
    "# Load the input data for prediction\n",
    "input_row = {\n",
    "    'District_Name': 'Chikmagalur',\n",
    "    'Market_Name': 'Chikkamagalore',\n",
    "    'Commodity': 'Antawala',\n",
    "    'Variety': 'Antawala',\n",
    "    'Grade': 'FAQ',\n",
    "    'Price_Date': '23/7/2025'\n",
    "}\n",
    "\n",
    "# Load the saved model\n",
    "with open('modalprice.pkl', 'rb') as file:\n",
    "    model = pickle.load(file)\n",
    "\n",
    "# Create a DataFrame with the input row\n",
    "input_df = pd.DataFrame([input_row])\n",
    "\n",
    "# Feature engineering: Extract month and year from Price_Date\n",
    "input_df['Month'] = pd.to_datetime(input_df['Price_Date']).dt.month\n",
    "input_df['Year'] = pd.to_datetime(input_df['Price_Date']).dt.year\n",
    "input_df.drop('Price_Date', axis=1, inplace=True)\n",
    "\n",
    "# Make prediction using the loaded model\n",
    "prediction = model.predict(input_df)\n",
    "print(\"Predicted Modal Price:\", prediction[0])"
   ]
  }
 ],
 "metadata": {
  "kernelspec": {
   "display_name": "Python 3",
   "language": "python",
   "name": "python3"
  },
  "language_info": {
   "codemirror_mode": {
    "name": "ipython",
    "version": 3
   },
   "file_extension": ".py",
   "mimetype": "text/x-python",
   "name": "python",
   "nbconvert_exporter": "python",
   "pygments_lexer": "ipython3",
   "version": "3.10.0"
  }
 },
 "nbformat": 4,
 "nbformat_minor": 2
}
